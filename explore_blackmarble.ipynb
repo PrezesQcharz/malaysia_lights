{
 "cells": [
  {
   "cell_type": "code",
   "execution_count": 1,
   "metadata": {},
   "outputs": [
    {
     "ename": "NameError",
     "evalue": "name 'gdf' is not defined",
     "output_type": "error",
     "traceback": [
      "\u001b[1;31m---------------------------------------------------------------------------\u001b[0m",
      "\u001b[1;31mNameError\u001b[0m                                 Traceback (most recent call last)",
      "Cell \u001b[1;32mIn[1], line 9\u001b[0m\n\u001b[0;32m      5\u001b[0m \u001b[38;5;28;01mfrom\u001b[39;00m \u001b[38;5;21;01mblackmarble\u001b[39;00m\u001b[38;5;21;01m.\u001b[39;00m\u001b[38;5;21;01mraster\u001b[39;00m \u001b[38;5;28;01mimport\u001b[39;00m bm_raster\n\u001b[0;32m      7\u001b[0m \u001b[38;5;66;03m# Retrieve VNP46A2 for date range into a Xarray Dataset\u001b[39;00m\n\u001b[0;32m      8\u001b[0m daily \u001b[38;5;241m=\u001b[39m bm_raster(\n\u001b[1;32m----> 9\u001b[0m     \u001b[43mgdf\u001b[49m,\n\u001b[0;32m     10\u001b[0m     product_id\u001b[38;5;241m=\u001b[39m\u001b[38;5;124m\"\u001b[39m\u001b[38;5;124mVNP46A2\u001b[39m\u001b[38;5;124m\"\u001b[39m,\n\u001b[0;32m     11\u001b[0m     date_range\u001b[38;5;241m=\u001b[39mpd\u001b[38;5;241m.\u001b[39mdate_range(\u001b[38;5;124m\"\u001b[39m\u001b[38;5;124m2022-01-01\u001b[39m\u001b[38;5;124m\"\u001b[39m, \u001b[38;5;124m\"\u001b[39m\u001b[38;5;124m2022-03-31\u001b[39m\u001b[38;5;124m\"\u001b[39m, freq\u001b[38;5;241m=\u001b[39m\u001b[38;5;124m\"\u001b[39m\u001b[38;5;124mD\u001b[39m\u001b[38;5;124m\"\u001b[39m),\n\u001b[0;32m     12\u001b[0m     bearer\u001b[38;5;241m=\u001b[39mbearer,\n\u001b[0;32m     13\u001b[0m )\n\u001b[0;32m     15\u001b[0m \u001b[38;5;66;03m# # Retrieve VNP46A2 for date range into a Xarray Dataset\u001b[39;00m\n\u001b[0;32m     16\u001b[0m \u001b[38;5;66;03m# daily = bm_raster(\u001b[39;00m\n\u001b[0;32m     17\u001b[0m \u001b[38;5;66;03m#     gdf,\u001b[39;00m\n\u001b[1;32m   (...)\u001b[0m\n\u001b[0;32m     20\u001b[0m \u001b[38;5;66;03m#     bearer=bearer,\u001b[39;00m\n\u001b[0;32m     21\u001b[0m \u001b[38;5;66;03m# )\u001b[39;00m\n",
      "\u001b[1;31mNameError\u001b[0m: name 'gdf' is not defined"
     ]
    }
   ],
   "source": [
    "# import blackmarble as bmp\n",
    "# import matplotlib.pyplot as plt\n",
    "# import numpy as np\n",
    "# #  VNP46A4.A2019001.h29v08.001.2021125091112\n",
    "from blackmarble.raster import bm_raster\n",
    "\n",
    "# Retrieve VNP46A2 for date range into a Xarray Dataset\n",
    "daily = bm_raster(\n",
    "    gdf,\n",
    "    product_id=\"VNP46A2\",\n",
    "    date_range=pd.date_range(\"2022-01-01\", \"2022-03-31\", freq=\"D\"),\n",
    "    bearer=bearer,\n",
    ")\n",
    "\n",
    "# # Retrieve VNP46A2 for date range into a Xarray Dataset\n",
    "# daily = bm_raster(\n",
    "#     gdf,\n",
    "#     product_id=\"VNP46A4\",\n",
    "#     date_range=pd.date_range(\"2013\", \"2023\", freq=\"A\"),\n",
    "#     bearer=bearer,\n",
    "# )\n",
    "\n",
    "\n"
   ]
  }
 ],
 "metadata": {
  "kernelspec": {
   "display_name": "venv",
   "language": "python",
   "name": "python3"
  },
  "language_info": {
   "codemirror_mode": {
    "name": "ipython",
    "version": 3
   },
   "file_extension": ".py",
   "mimetype": "text/x-python",
   "name": "python",
   "nbconvert_exporter": "python",
   "pygments_lexer": "ipython3",
   "version": "3.12.2"
  }
 },
 "nbformat": 4,
 "nbformat_minor": 2
}
